{
  "cells": [
    {
      "cell_type": "markdown",
      "metadata": {
        "id": "HNpLdoknQNWy"
      },
      "source": [
        "\n",
        "\n",
        "\n",
        "\n",
        "# Homework 1 Part 1: Pandas\n",
        "\n",
        "Today, we'll practice data exploration in pandas! Each cell should consist of **a single line of pandas code**, answering the question, unless mentioned that **multiple lines of pandas can be used**. Also, **Instructions are provided before each coding exercise; please follow them accordingly**.\n",
        "\n",
        "\n",
        "\n",
        "\n",
        "First, download the \"Pizza Sales Dataset\" from Kaggle.com (https://www.kaggle.com/datasets/nextmillionaire/pizza-sales-dataset?resource=download) and place it in this directory. **Make sure to create a Kaggle account first**.\n",
        "\n",
        "\n",
        "List of some helpful functions in general:\n",
        "\n",
        "\n",
        "* read_csv\n",
        "* head\n",
        "* unique\n",
        "* sum\n",
        "* mean\n",
        "* median\n",
        "* groupby\n",
        "* apply (An important note about this one--pay careful attention to the weird axis argument. When you apply over a series, you often don't need it, but when you apply over a dataframe axis=1 and axis=0 will do very different things.)\n",
        "* value_counts\n",
        "* df.columns ('columns' is a dataframe variable that tracks the columns) [note: it is not a function, rather an attribute]\n",
        "* isin\n",
        "* fillna\n",
        "* astype\n",
        "* hist"
      ]
    },
    {
      "cell_type": "markdown",
      "metadata": {
        "id": "EbLzVPkdRqdk"
      },
      "source": [
        "## Section A: The Basics Setup (TOTAL POINTS: 04)\n",
        "\n",
        "***Remember, all answers must be in A SINGLE LINE OF CODE in this section A.*** However if needed, using an additional line for display is allowed."
      ]
    },
    {
      "cell_type": "markdown",
      "metadata": {
        "id": "DKngtst0SRfI"
      },
      "source": [
        "**(1 POINT)** First, import the pandas library as \"pd\""
      ]
    },
    {
      "cell_type": "code",
      "execution_count": 63,
      "metadata": {
        "id": "LzuOqPQLaeW5"
      },
      "outputs": [],
      "source": [
        "import pandas as pd"
      ]
    },
    {
      "cell_type": "markdown",
      "metadata": {
        "id": "Poec9O_VSK74"
      },
      "source": [
        "**(1 POINT)** Now, read the dataframe and store it in a variable called \"df\"."
      ]
    },
    {
      "cell_type": "code",
      "execution_count": 64,
      "metadata": {
        "colab": {
          "base_uri": "https://localhost:8080/",
          "height": 304
        },
        "id": "ijDzFM7-c50M",
        "outputId": "33b8dad7-7e8b-4d3b-b53b-b6e6dafa29c1"
      },
      "outputs": [],
      "source": [
        "df = pd.read_csv('pizza_sales.csv')"
      ]
    },
    {
      "cell_type": "markdown",
      "metadata": {
        "id": "bTp4-UTbc-RL"
      },
      "source": [
        "**(1 POINT)** Let's get a feel for our dataframe. Print out the list of columns\n"
      ]
    },
    {
      "cell_type": "code",
      "execution_count": 65,
      "metadata": {
        "id": "mWsMCTLtSttC"
      },
      "outputs": [
        {
          "name": "stdout",
          "output_type": "stream",
          "text": [
            "       pizza_id  order_id  pizza_name_id  quantity  order_date order_time  \\\n",
            "0           1.0       1.0     hawaiian_m       1.0    1/1/2015   11:38:36   \n",
            "1           2.0       2.0  classic_dlx_m       1.0    1/1/2015   11:57:40   \n",
            "2           3.0       2.0  five_cheese_l       1.0    1/1/2015   11:57:40   \n",
            "3           4.0       2.0    ital_supr_l       1.0    1/1/2015   11:57:40   \n",
            "4           5.0       2.0     mexicana_m       1.0    1/1/2015   11:57:40   \n",
            "...         ...       ...            ...       ...         ...        ...   \n",
            "48615   48616.0   21348.0  ckn_alfredo_m       1.0  31-12-2015   21:23:10   \n",
            "48616   48617.0   21348.0  four_cheese_l       1.0  31-12-2015   21:23:10   \n",
            "48617   48618.0   21348.0   napolitana_s       1.0  31-12-2015   21:23:10   \n",
            "48618   48619.0   21349.0     mexicana_l       1.0  31-12-2015   22:09:54   \n",
            "48619   48620.0   21350.0      bbq_ckn_s       1.0  31-12-2015   23:02:05   \n",
            "\n",
            "       unit_price  total_price pizza_size pizza_category  \\\n",
            "0           13.25        13.25          M        Classic   \n",
            "1           16.00        16.00          M        Classic   \n",
            "2           18.50        18.50          L         Veggie   \n",
            "3           20.75        20.75          L        Supreme   \n",
            "4           16.00        16.00          M         Veggie   \n",
            "...           ...          ...        ...            ...   \n",
            "48615       16.75        16.75          M        Chicken   \n",
            "48616       17.95        17.95          L         Veggie   \n",
            "48617       12.00        12.00          S        Classic   \n",
            "48618       20.25        20.25          L         Veggie   \n",
            "48619       12.75        12.75          S        Chicken   \n",
            "\n",
            "                                       pizza_ingredients  \\\n",
            "0               Sliced Ham, Pineapple, Mozzarella Cheese   \n",
            "1      Pepperoni, Mushrooms, Red Onions, Red Peppers,...   \n",
            "2      Mozzarella Cheese, Provolone Cheese, Smoked Go...   \n",
            "3      Calabrese Salami, Capocollo, Tomatoes, Red Oni...   \n",
            "4      Tomatoes, Red Peppers, Jalapeno Peppers, Red O...   \n",
            "...                                                  ...   \n",
            "48615  Chicken, Red Onions, Red Peppers, Mushrooms, A...   \n",
            "48616  Ricotta Cheese, Gorgonzola Piccante Cheese, Mo...   \n",
            "48617  Tomatoes, Anchovies, Green Olives, Red Onions,...   \n",
            "48618  Tomatoes, Red Peppers, Jalapeno Peppers, Red O...   \n",
            "48619  Barbecued Chicken, Red Peppers, Green Peppers,...   \n",
            "\n",
            "                       pizza_name  \n",
            "0              The Hawaiian Pizza  \n",
            "1        The Classic Deluxe Pizza  \n",
            "2           The Five Cheese Pizza  \n",
            "3       The Italian Supreme Pizza  \n",
            "4              The Mexicana Pizza  \n",
            "...                           ...  \n",
            "48615   The Chicken Alfredo Pizza  \n",
            "48616       The Four Cheese Pizza  \n",
            "48617        The Napolitana Pizza  \n",
            "48618          The Mexicana Pizza  \n",
            "48619  The Barbecue Chicken Pizza  \n",
            "\n",
            "[48620 rows x 12 columns]\n"
          ]
        }
      ],
      "source": [
        "print(df)"
      ]
    },
    {
      "cell_type": "markdown",
      "metadata": {
        "id": "B1j2Q-bndCc8"
      },
      "source": [
        "**(1 POINT)** Now print out the first ten elements. There's a single function that does it by default."
      ]
    },
    {
      "cell_type": "code",
      "execution_count": 66,
      "metadata": {
        "colab": {
          "base_uri": "https://localhost:8080/",
          "height": 141
        },
        "id": "MTKjB-ihdCrX",
        "outputId": "850366a5-3e1d-4406-d4d4-2b66a0842c4f"
      },
      "outputs": [
        {
          "name": "stdout",
          "output_type": "stream",
          "text": [
            "   pizza_id  order_id  pizza_name_id  quantity order_date order_time  \\\n",
            "0       1.0       1.0     hawaiian_m       1.0   1/1/2015   11:38:36   \n",
            "1       2.0       2.0  classic_dlx_m       1.0   1/1/2015   11:57:40   \n",
            "2       3.0       2.0  five_cheese_l       1.0   1/1/2015   11:57:40   \n",
            "3       4.0       2.0    ital_supr_l       1.0   1/1/2015   11:57:40   \n",
            "4       5.0       2.0     mexicana_m       1.0   1/1/2015   11:57:40   \n",
            "5       6.0       2.0     thai_ckn_l       1.0   1/1/2015   11:57:40   \n",
            "6       7.0       3.0    ital_supr_m       1.0   1/1/2015   12:12:28   \n",
            "7       8.0       3.0   prsc_argla_l       1.0   1/1/2015   12:12:28   \n",
            "8       9.0       4.0    ital_supr_m       1.0   1/1/2015   12:16:31   \n",
            "9      10.0       5.0    ital_supr_m       1.0   1/1/2015   12:21:30   \n",
            "\n",
            "   unit_price  total_price pizza_size pizza_category  \\\n",
            "0       13.25        13.25          M        Classic   \n",
            "1       16.00        16.00          M        Classic   \n",
            "2       18.50        18.50          L         Veggie   \n",
            "3       20.75        20.75          L        Supreme   \n",
            "4       16.00        16.00          M         Veggie   \n",
            "5       20.75        20.75          L        Chicken   \n",
            "6       16.50        16.50          M        Supreme   \n",
            "7       20.75        20.75          L        Supreme   \n",
            "8       16.50        16.50          M        Supreme   \n",
            "9       16.50        16.50          M        Supreme   \n",
            "\n",
            "                                   pizza_ingredients  \\\n",
            "0           Sliced Ham, Pineapple, Mozzarella Cheese   \n",
            "1  Pepperoni, Mushrooms, Red Onions, Red Peppers,...   \n",
            "2  Mozzarella Cheese, Provolone Cheese, Smoked Go...   \n",
            "3  Calabrese Salami, Capocollo, Tomatoes, Red Oni...   \n",
            "4  Tomatoes, Red Peppers, Jalapeno Peppers, Red O...   \n",
            "5  Chicken, Pineapple, Tomatoes, Red Peppers, Tha...   \n",
            "6  Calabrese Salami, Capocollo, Tomatoes, Red Oni...   \n",
            "7  Prosciutto di San Daniele, Arugula, Mozzarella...   \n",
            "8  Calabrese Salami, Capocollo, Tomatoes, Red Oni...   \n",
            "9  Calabrese Salami, Capocollo, Tomatoes, Red Oni...   \n",
            "\n",
            "                         pizza_name  \n",
            "0                The Hawaiian Pizza  \n",
            "1          The Classic Deluxe Pizza  \n",
            "2             The Five Cheese Pizza  \n",
            "3         The Italian Supreme Pizza  \n",
            "4                The Mexicana Pizza  \n",
            "5            The Thai Chicken Pizza  \n",
            "6         The Italian Supreme Pizza  \n",
            "7  The Prosciutto and Arugula Pizza  \n",
            "8         The Italian Supreme Pizza  \n",
            "9         The Italian Supreme Pizza  \n"
          ]
        }
      ],
      "source": [
        "print(df.head(10))"
      ]
    },
    {
      "cell_type": "markdown",
      "metadata": {
        "id": "_szAfWynafm0"
      },
      "source": [
        "## Section B: Exploration Part 01 (TOTAl POINTS:14)\n",
        "***Remember, all answers must be in A SINGLE LINE OF CODE in this section B.*** However if needed, using an additional line for display is allowed."
      ]
    },
    {
      "cell_type": "markdown",
      "metadata": {
        "id": "GZvYoLYLr-pf"
      },
      "source": [
        "**(2 POINTS)** How many pizza were orderd in **total**?"
      ]
    },
    {
      "cell_type": "code",
      "execution_count": 67,
      "metadata": {
        "id": "giTTbegJr2RZ"
      },
      "outputs": [
        {
          "name": "stdout",
          "output_type": "stream",
          "text": [
            "49574.0\n"
          ]
        }
      ],
      "source": [
        "print(df[\"quantity\"].sum())"
      ]
    },
    {
      "cell_type": "markdown",
      "metadata": {
        "id": "C1clU9dodbCD"
      },
      "source": [
        "**(2 POINTS)** Print out what is the **Median** of **total price**?\n"
      ]
    },
    {
      "cell_type": "code",
      "execution_count": 68,
      "metadata": {
        "id": "8-Pm9YAGde-4"
      },
      "outputs": [
        {
          "name": "stdout",
          "output_type": "stream",
          "text": [
            "16.5\n"
          ]
        }
      ],
      "source": [
        "print(df[\"total_price\"].median())"
      ]
    },
    {
      "cell_type": "markdown",
      "metadata": {
        "id": "wujYiR0ZdrAz"
      },
      "source": [
        "**(3 POINTS)** Making it a bit more complicated — print out the median of the **'total price'** but only for the pizza_name_id named **'five_cheese_l'**"
      ]
    },
    {
      "cell_type": "code",
      "execution_count": 69,
      "metadata": {
        "id": "2JxYNr_GdnDF"
      },
      "outputs": [
        {
          "name": "stdout",
          "output_type": "stream",
          "text": [
            "18.5\n"
          ]
        }
      ],
      "source": [
        "print(df[df['pizza_name_id'] == 'five_cheese_l']['total_price'].median())"
      ]
    },
    {
      "cell_type": "markdown",
      "metadata": {
        "id": "2bm4xSKbULDA"
      },
      "source": [
        "**(2 POINTS)** Calculate the **mean 'unit price'** for each unique **'pizza name id'**\n",
        "\n",
        "Sample answer could be: <br>\n",
        "\n",
        "bbq_ckn_l        20.75<br>\n",
        "bbq_ckn_s        12.75\n",
        "etc."
      ]
    },
    {
      "cell_type": "code",
      "execution_count": 70,
      "metadata": {
        "id": "iGJb8fxbeSOD"
      },
      "outputs": [
        {
          "name": "stdout",
          "output_type": "stream",
          "text": [
            "pizza_name_id\n",
            "bbq_ckn_l        20.75\n",
            "bbq_ckn_m        16.75\n",
            "bbq_ckn_s        12.75\n",
            "big_meat_s       12.00\n",
            "brie_carre_s     23.65\n",
            "                 ...  \n",
            "the_greek_xl     25.50\n",
            "the_greek_xxl    35.95\n",
            "veggie_veg_l     20.25\n",
            "veggie_veg_m     16.00\n",
            "veggie_veg_s     12.00\n",
            "Name: unit_price, Length: 91, dtype: float64\n"
          ]
        }
      ],
      "source": [
        "print(df.groupby('pizza_name_id')['unit_price'].mean())"
      ]
    },
    {
      "cell_type": "markdown",
      "metadata": {
        "id": "G2Ae5Z3hkTjA"
      },
      "source": [
        "**(2 POINTS)** Print out the number of pizza by **'pizza size'**.\n",
        "\n",
        "Your results should look something like: <br>\n",
        "L      18526 <br>\n",
        "M      15385 <br>\n",
        "etc."
      ]
    },
    {
      "cell_type": "code",
      "execution_count": 71,
      "metadata": {
        "id": "5dlzuCjnkqQt"
      },
      "outputs": [
        {
          "name": "stdout",
          "output_type": "stream",
          "text": [
            "L      18526\n",
            "M      15385\n",
            "S      14137\n",
            "XL       544\n",
            "XXL       28\n",
            "Name: pizza_size, dtype: int64\n"
          ]
        }
      ],
      "source": [
        "print(df['pizza_size'].value_counts())"
      ]
    },
    {
      "cell_type": "markdown",
      "metadata": {
        "id": "h-J0cP4Jk_Ys"
      },
      "source": [
        "**(1 POINT)** Print out the number of pizza by **'pizza name'**..\n",
        "\n",
        "Your results should look something like: <br>\n",
        "The Classic Deluxe Pizza                      2416 <br>\n",
        "The Barbecue Chicken Pizza                    2372 <br>\n",
        "etc."
      ]
    },
    {
      "cell_type": "code",
      "execution_count": 72,
      "metadata": {
        "id": "3o9ilcW6k53q"
      },
      "outputs": [
        {
          "name": "stdout",
          "output_type": "stream",
          "text": [
            "The Classic Deluxe Pizza                      2416\n",
            "The Barbecue Chicken Pizza                    2372\n",
            "The Hawaiian Pizza                            2370\n",
            "The Pepperoni Pizza                           2369\n",
            "The Thai Chicken Pizza                        2315\n",
            "The California Chicken Pizza                  2302\n",
            "The Sicilian Pizza                            1887\n",
            "The Spicy Italian Pizza                       1887\n",
            "The Southwest Chicken Pizza                   1885\n",
            "The Four Cheese Pizza                         1850\n",
            "The Italian Supreme Pizza                     1849\n",
            "The Big Meat Pizza                            1811\n",
            "The Vegetables + Vegetables Pizza             1510\n",
            "The Mexicana Pizza                            1456\n",
            "The Napolitana Pizza                          1451\n",
            "The Spinach and Feta Pizza                    1432\n",
            "The Prosciutto and Arugula Pizza              1428\n",
            "The Pepper Salami Pizza                       1422\n",
            "The Italian Capocollo Pizza                   1414\n",
            "The Greek Pizza                               1406\n",
            "The Five Cheese Pizza                         1359\n",
            "The Pepperoni, Mushroom, and Peppers Pizza    1342\n",
            "The Green Garden Pizza                         987\n",
            "The Chicken Alfredo Pizza                      980\n",
            "The Italian Vegetables Pizza                   975\n",
            "The Chicken Pesto Pizza                        961\n",
            "The Spinach Pesto Pizza                        957\n",
            "The Soppressata Pizza                          957\n",
            "The Spinach Supreme Pizza                      940\n",
            "The Calabrese Pizza                            927\n",
            "The Mediterranean Pizza                        923\n",
            "The Brie Carre Pizza                           480\n",
            "Name: pizza_name, dtype: int64\n"
          ]
        }
      ],
      "source": [
        "print(df['pizza_name'].value_counts())"
      ]
    },
    {
      "cell_type": "markdown",
      "metadata": {
        "id": "07Yzhoo_lOdt"
      },
      "source": [
        "**(2 POINTS)** Print just the line for order date \"1/1/2015\" and order time \"12:21:30\". It will print/display **only one row**!"
      ]
    },
    {
      "cell_type": "code",
      "execution_count": 73,
      "metadata": {
        "id": "vCPKstoQlczP"
      },
      "outputs": [
        {
          "name": "stdout",
          "output_type": "stream",
          "text": [
            "   pizza_id  order_id pizza_name_id  quantity order_date order_time  \\\n",
            "9      10.0       5.0   ital_supr_m       1.0   1/1/2015   12:21:30   \n",
            "\n",
            "   unit_price  total_price pizza_size pizza_category  \\\n",
            "9        16.5         16.5          M        Supreme   \n",
            "\n",
            "                                   pizza_ingredients  \\\n",
            "9  Calabrese Salami, Capocollo, Tomatoes, Red Oni...   \n",
            "\n",
            "                  pizza_name  \n",
            "9  The Italian Supreme Pizza  \n"
          ]
        }
      ],
      "source": [
        "print(df[(df['order_date'] == \"1/1/2015\") & (df['order_time'] == \"12:21:30\")])"
      ]
    },
    {
      "cell_type": "markdown",
      "metadata": {
        "id": "iVfUWvIwmRAU"
      },
      "source": [
        "## Section C: Exploration Part 02 : Little bit advanced (TOTAL POINTS: 07)\n",
        "***In this section C, you can use MULTIPLE LINE OF ANSWERS if needed***"
      ]
    },
    {
      "cell_type": "markdown",
      "metadata": {
        "id": "7mpwopVCWOHZ"
      },
      "source": [
        "**(3 POINTS)** Q1: Part one: Create a series 'c' by summing the 'quantity' for each unique 'pizza_name'. Then, sort the series 'c' in descending order, storing the result in 'c_sorted'.\" **hints**: use \"sort_values\""
      ]
    },
    {
      "cell_type": "code",
      "execution_count": 74,
      "metadata": {
        "id": "EfNqSB0umxKj"
      },
      "outputs": [],
      "source": [
        "# Create a series by summing the 'quantity' for each unique 'pizza_name'\n",
        "c = df.groupby('pizza_name')['quantity'].sum()\n",
        "\n",
        "# Sort the series 'c' in descending order\n",
        "c_sorted = c.sort_values(ascending=False)"
      ]
    },
    {
      "cell_type": "markdown",
      "metadata": {
        "id": "3qU_BWMiXcFq"
      },
      "source": [
        "**(1 POINT)** Q1: Part2: Now from \"c_sorted\";  find out which was the most-ordered pizza? **hints: it will be just one line code**"
      ]
    },
    {
      "cell_type": "code",
      "execution_count": 75,
      "metadata": {
        "id": "K1XXattdrfH6"
      },
      "outputs": [],
      "source": [
        "most_ordered_pizza = c_sorted.index[0]"
      ]
    },
    {
      "cell_type": "markdown",
      "metadata": {
        "id": "mec7jhJlsqzt"
      },
      "source": [
        "**(3 POINTS)** Display How many pizza from **Classic** category were ordered in **29-10-2015**"
      ]
    },
    {
      "cell_type": "code",
      "execution_count": 76,
      "metadata": {
        "id": "jYeOfGhildYb"
      },
      "outputs": [
        {
          "name": "stdout",
          "output_type": "stream",
          "text": [
            "Total Classic pizzas ordered on 29-10-2015: 39.0\n"
          ]
        }
      ],
      "source": [
        "# Filter the DataFrame to include only rows where the order date is \"29-10-2015\" and pizza category is \"Classic\"\n",
        "classic_pizzas = df[(df['order_date'] == '29-10-2015') & (df['pizza_category'] == 'Classic')]\n",
        "\n",
        "# Sum up the 'quantity' column to get the total number of Classic pizzas ordered\n",
        "total_classic_pizzas = classic_pizzas['quantity'].sum()\n",
        "\n",
        "# Display the total number of Classic pizzas ordered on 29-10-2015\n",
        "print(\"Total Classic pizzas ordered on 29-10-2015:\", total_classic_pizzas)"
      ]
    },
    {
      "cell_type": "markdown",
      "metadata": {
        "id": "03NXd5GEtq_7"
      },
      "source": [
        "## Section D: Modifications : (TOTAL POINTS: 07)\n",
        "***Remember, all answers must be in A SINGLE LINE OF CODE in this section D.*** However if needed, using an additional line for display is allowed."
      ]
    },
    {
      "cell_type": "markdown",
      "metadata": {
        "id": "HKYjZT6Dt-qE"
      },
      "source": [
        "Let's start modifying our dataframe! Remember, dataframe operations return a copy by default, so you'll either need to use the inplace=True, or just assign the dataframe back into itself (as in, df = df.someFunction())."
      ]
    },
    {
      "cell_type": "markdown",
      "metadata": {
        "id": "L4DywE84uQYO"
      },
      "source": [
        "**(2 POINTS)** Take the Pizza Size column and **replace** 'M' with 'Medium' and 'L' with 'Large' in the 'pizza_size' column of the 'df' dataframe. Display the *first 10 rows* of the updated dataframe.\""
      ]
    },
    {
      "cell_type": "code",
      "execution_count": 77,
      "metadata": {
        "id": "2vqiH2eSukPt"
      },
      "outputs": [
        {
          "name": "stdout",
          "output_type": "stream",
          "text": [
            "   pizza_id  order_id  pizza_name_id  quantity order_date order_time  \\\n",
            "0       1.0       1.0     hawaiian_m       1.0   1/1/2015   11:38:36   \n",
            "1       2.0       2.0  classic_dlx_m       1.0   1/1/2015   11:57:40   \n",
            "2       3.0       2.0  five_cheese_l       1.0   1/1/2015   11:57:40   \n",
            "3       4.0       2.0    ital_supr_l       1.0   1/1/2015   11:57:40   \n",
            "4       5.0       2.0     mexicana_m       1.0   1/1/2015   11:57:40   \n",
            "5       6.0       2.0     thai_ckn_l       1.0   1/1/2015   11:57:40   \n",
            "6       7.0       3.0    ital_supr_m       1.0   1/1/2015   12:12:28   \n",
            "7       8.0       3.0   prsc_argla_l       1.0   1/1/2015   12:12:28   \n",
            "8       9.0       4.0    ital_supr_m       1.0   1/1/2015   12:16:31   \n",
            "9      10.0       5.0    ital_supr_m       1.0   1/1/2015   12:21:30   \n",
            "\n",
            "   unit_price  total_price pizza_size pizza_category  \\\n",
            "0       13.25        13.25     Medium        Classic   \n",
            "1       16.00        16.00     Medium        Classic   \n",
            "2       18.50        18.50      Large         Veggie   \n",
            "3       20.75        20.75      Large        Supreme   \n",
            "4       16.00        16.00     Medium         Veggie   \n",
            "5       20.75        20.75      Large        Chicken   \n",
            "6       16.50        16.50     Medium        Supreme   \n",
            "7       20.75        20.75      Large        Supreme   \n",
            "8       16.50        16.50     Medium        Supreme   \n",
            "9       16.50        16.50     Medium        Supreme   \n",
            "\n",
            "                                   pizza_ingredients  \\\n",
            "0           Sliced Ham, Pineapple, Mozzarella Cheese   \n",
            "1  Pepperoni, Mushrooms, Red Onions, Red Peppers,...   \n",
            "2  Mozzarella Cheese, Provolone Cheese, Smoked Go...   \n",
            "3  Calabrese Salami, Capocollo, Tomatoes, Red Oni...   \n",
            "4  Tomatoes, Red Peppers, Jalapeno Peppers, Red O...   \n",
            "5  Chicken, Pineapple, Tomatoes, Red Peppers, Tha...   \n",
            "6  Calabrese Salami, Capocollo, Tomatoes, Red Oni...   \n",
            "7  Prosciutto di San Daniele, Arugula, Mozzarella...   \n",
            "8  Calabrese Salami, Capocollo, Tomatoes, Red Oni...   \n",
            "9  Calabrese Salami, Capocollo, Tomatoes, Red Oni...   \n",
            "\n",
            "                         pizza_name  \n",
            "0                The Hawaiian Pizza  \n",
            "1          The Classic Deluxe Pizza  \n",
            "2             The Five Cheese Pizza  \n",
            "3         The Italian Supreme Pizza  \n",
            "4                The Mexicana Pizza  \n",
            "5            The Thai Chicken Pizza  \n",
            "6         The Italian Supreme Pizza  \n",
            "7  The Prosciutto and Arugula Pizza  \n",
            "8         The Italian Supreme Pizza  \n",
            "9         The Italian Supreme Pizza  \n"
          ]
        }
      ],
      "source": [
        "df['pizza_size'].replace({'M': 'Medium', 'L': 'Large'}, inplace=True)\n",
        "print(df.head(10))"
      ]
    },
    {
      "cell_type": "markdown",
      "metadata": {
        "id": "qsSLircZvCMo"
      },
      "source": [
        "**(1 POINT)** Now make a new 'revenue' column, which should be total price + 10 dollars, as the company accidentally factored in an old discount."
      ]
    },
    {
      "cell_type": "code",
      "execution_count": 78,
      "metadata": {
        "id": "3QtVWxNzvR04"
      },
      "outputs": [],
      "source": [
        "df['revenue'] = df['total_price'] + 10"
      ]
    },
    {
      "cell_type": "markdown",
      "metadata": {
        "id": "LY_AgBwQwBtw"
      },
      "source": [
        "**(2 POINTS)** Convert the 'order_date' datetime format using \"to_datetime()\". Display the updated 'order_date' column."
      ]
    },
    {
      "cell_type": "code",
      "execution_count": 79,
      "metadata": {
        "id": "KjS-81_gvbT4"
      },
      "outputs": [
        {
          "name": "stdout",
          "output_type": "stream",
          "text": [
            "0       2015-01-01\n",
            "1       2015-01-01\n",
            "2       2015-01-01\n",
            "3       2015-01-01\n",
            "4       2015-01-01\n",
            "           ...    \n",
            "48615   2015-12-31\n",
            "48616   2015-12-31\n",
            "48617   2015-12-31\n",
            "48618   2015-12-31\n",
            "48619   2015-12-31\n",
            "Name: order_date, Length: 48620, dtype: datetime64[ns]\n"
          ]
        }
      ],
      "source": [
        "df['order_date'] = pd.to_datetime(df['order_date'])\n",
        "print(df['order_date'])"
      ]
    },
    {
      "cell_type": "markdown",
      "metadata": {
        "id": "Jyk95Ed7vbk7"
      },
      "source": [
        "**(2 POINTS)** Calculate the total revenue for the period from January 1, 2015, to February 28, 2015"
      ]
    },
    {
      "cell_type": "code",
      "execution_count": 80,
      "metadata": {
        "id": "NsabyFCywFBJ"
      },
      "outputs": [
        {
          "name": "stdout",
          "output_type": "stream",
          "text": [
            "217129.59999999998\n"
          ]
        }
      ],
      "source": [
        "print(df[(df['order_date'] >= '2015-01-01') & (df['order_date'] <= '2015-02-28')]['revenue'].sum())"
      ]
    },
    {
      "cell_type": "markdown",
      "metadata": {
        "id": "coEboxvNaHi4"
      },
      "source": [
        "## Section E: Graph Visualization : (TOTAL POINTS: 02)\n",
        "***Remember, all answers must be in A SINGLE LINE OF CODE in this section E. ***"
      ]
    },
    {
      "cell_type": "markdown",
      "metadata": {
        "id": "ZkYnsXAYaVy5"
      },
      "source": [
        "**(1 POINT)** Let's do some very basic graphing here! Create a histogram for the 'order_date' column. You can set color on your own choice."
      ]
    },
    {
      "cell_type": "code",
      "execution_count": 81,
      "metadata": {
        "id": "v0mcq_TMVMxK"
      },
      "outputs": [
        {
          "data": {
            "text/plain": [
              "<AxesSubplot:>"
            ]
          },
          "execution_count": 81,
          "metadata": {},
          "output_type": "execute_result"
        },
        {
          "data": {
            "image/png": "[encoded data removed]",
            "text/plain": [
              "<Figure size 432x288 with 1 Axes>"
            ]
          },
          "metadata": {
            "needs_background": "light"
          },
          "output_type": "display_data"
        }
      ],
      "source": [
        "df['order_date'].hist(color=\"red\")"
      ]
    },
    {
      "cell_type": "markdown",
      "metadata": {
        "id": "vR24c-FBxOBs"
      },
      "source": [
        "**(1 POINT)** Create a plot that visualizes the frequency of each pizza category. Use the 'pizza_category' column from the dataset. **Hints: Think about if it is a continuous data or categorial data.**\n",
        "\n"
      ]
    },
    {
      "cell_type": "code",
      "execution_count": 82,
      "metadata": {
        "id": "Y--8ry-YxUdj"
      },
      "outputs": [
        {
          "data": {
            "text/plain": [
              "<AxesSubplot:>"
            ]
          },
          "execution_count": 82,
          "metadata": {},
          "output_type": "execute_result"
        },
        {
          "data": {
            "image/png": "[encoded data removed]",
            "text/plain": [
              "<Figure size 720x432 with 1 Axes>"
            ]
          },
          "metadata": {
            "needs_background": "light"
          },
          "output_type": "display_data"
        }
      ],
      "source": [
        "df['pizza_category'].value_counts().plot(kind='bar', color='skyblue', figsize=(10, 6))"
      ]
    },
    {
      "cell_type": "markdown",
      "metadata": {
        "id": "HK4Wp45fbLcc"
      },
      "source": [
        "# ADDITIONAL Bonus Section (TOTAL POINTS: 06)\n",
        "**Multiple lines code are allowed in this section**\n",
        "\n",
        "**(5 POINTS)**"
      ]
    },
    {
      "cell_type": "markdown",
      "metadata": {
        "id": "uLvyhNGubfMt"
      },
      "source": [
        "Now you need to load another dataset named \"costs_ingredients.csv\" in the directory."
      ]
    },
    {
      "cell_type": "markdown",
      "metadata": {
        "id": "gH7sFBVycJEa"
      },
      "source": [
        "The company forgot to calculate their profit! Recall that profit is revenue minus total **costs** to the company. You are given a list below of the integredient costs. Using these costs, compute first the total cost of each order, and then the respective revenue. **Hints: You may need to do some python code  with pandas**"
      ]
    },
    {
      "cell_type": "code",
      "execution_count": null,
      "metadata": {
        "id": "rxzlHCzTbhxv"
      },
      "outputs": [],
      "source": []
    },
    {
      "cell_type": "markdown",
      "metadata": {
        "id": "7o8txcDjcajG"
      },
      "source": [
        "**(1 POINT)** Plot a histogram of the profit. Do you see a problem... ?\n",
        "\n",
        "Explain in a text block below."
      ]
    },
    {
      "cell_type": "code",
      "execution_count": null,
      "metadata": {
        "id": "mwM1a1xWcgb1"
      },
      "outputs": [],
      "source": []
    },
    {
      "cell_type": "markdown",
      "metadata": {
        "id": "71-4ck2Gcbl9"
      },
      "source": [
        "Write down the explaination: the average is below zero; so not making any money"
      ]
    },
    {
      "cell_type": "markdown",
      "metadata": {
        "id": "dZaIinLYW8Ey"
      },
      "source": []
    }
  ],
  "metadata": {
    "colab": {
      "provenance": []
    },
    "kernelspec": {
      "display_name": "Python 3",
      "name": "python3"
    },
    "language_info": {
      "codemirror_mode": {
        "name": "ipython",
        "version": 3
      },
      "file_extension": ".py",
      "mimetype": "text/x-python",
      "name": "python",
      "nbconvert_exporter": "python",
      "pygments_lexer": "ipython3",
      "version": "3.7.11"
    }
  },
  "nbformat": 4,
  "nbformat_minor": 0
}
